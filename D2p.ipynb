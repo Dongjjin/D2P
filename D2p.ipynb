{
 "cells": [
  {
   "cell_type": "markdown",
   "id": "9b178ad7",
   "metadata": {},
   "source": [
    "## Query Complexity"
   ]
  },
  {
   "cell_type": "code",
   "execution_count": 2,
   "id": "14b4cbb0",
   "metadata": {},
   "outputs": [
    {
     "data": {
      "image/png": "[encoded data removed]",
      "text/plain": [
       "<Figure size 432x288 with 1 Axes>"
      ]
     },
     "metadata": {
      "needs_background": "light"
     },
     "output_type": "display_data"
    }
   ],
   "source": [
    "from matplotlib import pyplot as plt\n",
    "import numpy as np\n",
    "import math as ma\n",
    "\n",
    "interval = 0.0001\n",
    "lam = np.arange(interval,0.25 + interval,interval)\n",
    "k_optp = np.floor(ma.pi/(4*np.arcsin(np.sqrt(lam))) - 1/2 )\n",
    "k_opt = k_optp + 1\n",
    " \n",
    "plt.plot(lam, k_opt, 'k.', markersize=2)\n",
    "plt.xlabel('$\\lambda$')\n",
    "plt.ylabel('Query Complexity')\n",
    "\n",
    "plt.xscale('log')\n",
    "plt.yscale('log')\n",
    "plt.grid(True, axis='y', linestyle='--')\n",
    "plt.show()"
   ]
  },
  {
   "cell_type": "markdown",
   "id": "6888fa61",
   "metadata": {},
   "source": [
    "## Solving Equations"
   ]
  },
  {
   "cell_type": "markdown",
   "id": "0b65e299",
   "metadata": {},
   "source": [
    "### For New Equations"
   ]
  },
  {
   "cell_type": "code",
   "execution_count": 3,
   "id": "50c892f2",
   "metadata": {},
   "outputs": [
    {
     "name": "stderr",
     "output_type": "stream",
     "text": [
      "C:\\Users\\user\\anaconda3\\lib\\site-packages\\scipy\\optimize\\minpack.py:175: RuntimeWarning: The iteration is not making good progress, as measured by the \n",
      "  improvement from the last ten iterations.\n",
      "  warnings.warn(msg, RuntimeWarning)\n",
      "C:\\Users\\user\\anaconda3\\lib\\site-packages\\scipy\\optimize\\minpack.py:175: RuntimeWarning: The iteration is not making good progress, as measured by the \n",
      "  improvement from the last five Jacobian evaluations.\n",
      "  warnings.warn(msg, RuntimeWarning)\n",
      "C:\\Users\\user\\anaconda3\\lib\\site-packages\\scipy\\optimize\\minpack.py:175: RuntimeWarning: The number of calls to function has reached maxfev = 800.\n",
      "  warnings.warn(msg, RuntimeWarning)\n"
     ]
    }
   ],
   "source": [
    "import random\n",
    "from scipy.optimize import fsolve\n",
    "interval = 0.00001\n",
    "data_new = []\n",
    "\n",
    "def equations_even_k(vars):\n",
    "    (th1, th2, phi) = vars\n",
    "    eq1 = 1 + 4*lam*(1-2*lam)*ma.sin(th1/2)*ma.sin(th2/2)*ma.tan(k_opt*phi/2)/ma.sin(phi)\n",
    "    eq2 = (1-4*lam)*ma.tan(th1/2) + ma.tan(th2/2)\n",
    "    eq3 = ma.cos(phi) - ma.cos(th1/2+th2/2) - 8*lam*(1-lam)*ma.sin(th1/2)*ma.sin(th2/2)\n",
    "    return [eq1, eq2, eq3]\n",
    "\n",
    "def equations_odd_k(vars):\n",
    "    (th1, th2, phi) = vars\n",
    "    eq1 = 1 - 2*lam + 2*ma.cos(th1)*lam + ( (2 - ma.cos(th1) + (2*ma.cos(th1) - 2)*lam)*4*lam*(1-2*lam)*ma.sin(th1/2)*ma.sin(th2/2) - 2*lam*ma.sin(th1)*ma.sin(th1/2-th2/2) )*ma.tan((k_opt-1)*phi/2)/ma.sin(phi)\n",
    "    eq2 = 2*lam*ma.sin(th1) + (2*lam*ma.cos(th1)*ma.sin(th1/2-th2/2) - 4*(1-2*lam)*(1-2*lam)*lam*ma.sin(th1)*ma.sin(th1/2)*ma.sin(th2/2) - (1-2*lam)*ma.sin(th1/2+th2/2) )*ma.tan((k_opt-1)*phi/2)/ma.sin(phi)\n",
    "    eq3 = ma.cos(phi) - ma.cos(th1/2+th2/2) - 8*lam*(1-lam)*ma.sin(th1/2)*ma.sin(th2/2)\n",
    "    return [eq1, eq2, eq3]\n",
    "\n",
    "\n",
    "\n",
    "for i in range( int(0.25/interval) ):\n",
    "    #print( i+1, (i+1)*interval )\n",
    "    lam = (i+1)*interval\n",
    "    k_opt = np.floor(ma.pi/(4*np.arcsin(np.sqrt(lam))) - 1/2 ) + 1\n",
    "    \n",
    "    if k_opt%2 == 0: #even\n",
    "        root = fsolve(equations_even_k, [random.random()*ma.pi, random.random()*ma.pi, random.random()*ma.pi])\n",
    "        while np.isclose(equations_even_k(root), [0.0, 0.0, 0.0])[0] == False or np.isclose(equations_even_k(root), [0.0, 0.0, 0.0])[1] == False or np.isclose(equations_even_k(root), [0.0, 0.0, 0.0])[2] == False:\n",
    "            root = fsolve(equations_even_k, [random.random()*ma.pi, random.random()*ma.pi, random.random()*ma.pi])\n",
    "            \n",
    "        data_new.append([i+1, lam, k_opt, root[0], root[1], root[2]])\n",
    "    \n",
    "\n",
    "    else: #odd\n",
    "        root = fsolve(equations_odd_k, [random.random()*ma.pi, random.random()*ma.pi, random.random()*ma.pi])\n",
    "        while np.isclose(equations_odd_k(root), [0.0, 0.0, 0.0])[0] == False or np.isclose(equations_odd_k(root), [0.0, 0.0, 0.0])[1] == False or np.isclose(equations_odd_k(root), [0.0, 0.0, 0.0])[2] == False:\n",
    "            root = fsolve(equations_odd_k, [random.random()*ma.pi, random.random()*ma.pi, random.random()*ma.pi])\n",
    "            \n",
    "        data_new.append([i+1, lam, k_opt, root[0], root[1], root[2]])\n",
    "\n"
   ]
  },
  {
   "cell_type": "markdown",
   "id": "9c966d4e",
   "metadata": {},
   "source": [
    "### For Original Equations"
   ]
  },
  {
   "cell_type": "code",
   "execution_count": 6,
   "id": "f20198fa",
   "metadata": {},
   "outputs": [],
   "source": [
    "import random\n",
    "\n",
    "interval = 0.00001\n",
    "data_original = []\n",
    "\n",
    "def equations_even_k(vars):\n",
    "    (th1, th2, phi) = vars\n",
    "    eq1 = 1 + 4*lam*(1-2*lam)*ma.sin(th1/2)*ma.sin(th2/2)*ma.tan(k_opt*phi/2)/ma.sin(phi)\n",
    "    eq2 = (1-4*lam)*ma.tan(th1/2) + ma.tan(th2/2)\n",
    "    eq3 = ma.cos(phi) - ma.cos(th1/2+th2/2) - 8*lam*(1-lam)*ma.sin(th1/2)*ma.sin(th2/2)\n",
    "    return [eq1, eq2, eq3]\n",
    "\n",
    "def equations_odd_k(vars):\n",
    "    (th1, th2, phi) = vars\n",
    "    eq1 = 2*lam + (1-2*lam)*ma.cos(th1) - (1-2*lam)*ma.sin(th1/2)*( ma.sin(th1)*ma.cos(th2/2) + (1+4*lam-8*lam*lam + (1-8*lam+8*lam*lam)*ma.cos(th1))*ma.sin(th2/2) )*ma.tan((k_opt-1)/2*phi)/ma.sin(phi)\n",
    "    eq2 = (1-2*lam)*ma.sin(th1) + ( (1-2*lam)*(8*lam*(1-lam)*ma.sin(th1/2)*ma.sin(th1)*ma.sin(th2/2) + ma.cos(th1)*ma.sin(th1/2+th2/2)) - 2*lam*ma.sin(th1/2-th2/2) )*ma.tan((k_opt-1)/2*phi)/ma.sin(phi)\n",
    "    eq3 = ma.cos(phi) - ma.cos(th1/2+th2/2) - 8*lam*(1-lam)*ma.sin(th1/2)*ma.sin(th2/2)\n",
    "    return [eq1, eq2, eq3]\n",
    "\n",
    "\n",
    "for i in range( int(0.25/interval) ):\n",
    "    #print( i+1, (i+1)*interval )\n",
    "    lam = (i+1)*interval\n",
    "    k_opt = np.floor(ma.pi/(4*np.arcsin(np.sqrt(lam))) - 1/2 ) + 1\n",
    "    \n",
    "    if k_opt%2 == 0: #even\n",
    "        root = fsolve(equations_even_k, [random.random()*ma.pi, random.random()*ma.pi, random.random()*ma.pi])\n",
    "        while np.isclose(equations_even_k(root), [0.0, 0.0, 0.0])[0] == False or np.isclose(equations_even_k(root), [0.0, 0.0, 0.0])[1] == False or np.isclose(equations_even_k(root), [0.0, 0.0, 0.0])[2] == False:\n",
    "            root = fsolve(equations_even_k, [random.random()*ma.pi, random.random()*ma.pi, random.random()*ma.pi])\n",
    "            \n",
    "        data_original.append([i+1, lam, k_opt, root[0], root[1], root[2]])\n",
    "    \n",
    "\n",
    "    else: #odd\n",
    "        root = fsolve(equations_odd_k, [random.random()*ma.pi, random.random()*ma.pi, random.random()*ma.pi])\n",
    "        while np.isclose(equations_odd_k(root), [0.0, 0.0, 0.0])[0] == False or np.isclose(equations_odd_k(root), [0.0, 0.0, 0.0])[1] == False or np.isclose(equations_odd_k(root), [0.0, 0.0, 0.0])[2] == False:\n",
    "            root = fsolve(equations_odd_k, [random.random()*ma.pi, random.random()*ma.pi, random.random()*ma.pi])\n",
    "            \n",
    "        data_original.append([i+1, lam, k_opt, root[0], root[1], root[2]])\n",
    "\n",
    "    \n"
   ]
  },
  {
   "cell_type": "markdown",
   "id": "c9c71e26",
   "metadata": {},
   "source": [
    "## Difference Between Two Solutions"
   ]
  },
  {
   "cell_type": "code",
   "execution_count": 7,
   "id": "ff6db108",
   "metadata": {},
   "outputs": [
    {
     "data": {
      "text/plain": [
       "<matplotlib.legend.Legend at 0x1532cc63e20>"
      ]
     },
     "execution_count": 7,
     "metadata": {},
     "output_type": "execute_result"
    },
    {
     "data": {
      "image/png": "[encoded data removed]",
      "text/plain": [
       "<Figure size 432x288 with 1 Axes>"
      ]
     },
     "metadata": {
      "needs_background": "light"
     },
     "output_type": "display_data"
    },
    {
     "data": {
      "image/png": "[encoded data removed]",
      "text/plain": [
       "<Figure size 432x288 with 1 Axes>"
      ]
     },
     "metadata": {
      "needs_background": "light"
     },
     "output_type": "display_data"
    }
   ],
   "source": [
    "diff_theta1 = []\n",
    "diff_theta2 = []\n",
    "\n",
    "lam = []\n",
    "\n",
    "for i in range( len(data_original) ):\n",
    "    lam_temp = data_original[i][1]\n",
    "    lam.append( lam_temp )\n",
    "    \n",
    "    if data_original[i][3]%(2*ma.pi) > ma.pi:\n",
    "        theta1_original = (data_original[i][3]%(2*ma.pi) - 2*ma.pi) / ma.pi\n",
    "    else:\n",
    "        theta1_original = (data_original[i][3]%(2*ma.pi))/ma.pi\n",
    "    \n",
    "    if data_new[i][3]%(2*ma.pi) > ma.pi:\n",
    "        theta1_new = (data_new[i][3]%(2*ma.pi) - 2*ma.pi) / ma.pi\n",
    "    else:\n",
    "        theta1_new = (data_new[i][3]%(2*ma.pi))/ma.pi\n",
    "    \n",
    "    diff_theta1.append(abs(abs(theta1_original) - abs(theta1_new)))\n",
    "    \n",
    "    if data_original[i][4]%(2*ma.pi) > ma.pi:\n",
    "        theta2_original= -(data_original[i][4]%(2*ma.pi) - 2*ma.pi)/ma.pi    \n",
    "    else:\n",
    "        theta2_original = -(data_original[i][4]%(2*ma.pi))/ma.pi\n",
    "    \n",
    "    if data_new[i][4]%(2*ma.pi) > ma.pi:\n",
    "        theta2_new= -(data_new[i][4]%(2*ma.pi) - 2*ma.pi)/ma.pi    \n",
    "    else:\n",
    "        theta2_new = -(data_new[i][4]%(2*ma.pi))/ma.pi\n",
    "    \n",
    "    diff_theta2.append(abs(abs(theta2_original) - abs(theta2_new)))\n",
    "\n",
    "plt.figure(1)\n",
    "plt.plot(lam,diff_theta1,'k',label='$\\\\theta1$ difference')\n",
    "plt.xlim(0.001, 0.25)\n",
    "plt.xscale('log')\n",
    "plt.grid(True, linestyle='--')\n",
    "plt.legend()\n",
    "\n",
    "plt.figure(2)\n",
    "plt.plot(lam,diff_theta2,'k',label='$\\\\theta2$ difference')\n",
    "plt.xlim(0.001, 0.25)\n",
    "plt.xscale('log')\n",
    "plt.grid(True, linestyle='--')\n",
    "plt.legend()"
   ]
  },
  {
   "cell_type": "markdown",
   "id": "c3dd8c91",
   "metadata": {},
   "source": [
    "## Computing Success Probability (New Equations)"
   ]
  },
  {
   "cell_type": "code",
   "execution_count": 4,
   "id": "1c573fba",
   "metadata": {},
   "outputs": [],
   "source": [
    "import cmath as cma\n",
    "\n",
    "lam = []\n",
    "theta1 = []\n",
    "theta2 = []\n",
    "success_prob = []\n",
    "\n",
    "for i in range( len(data_new) ):\n",
    "    \n",
    "    # Rearrange the value of thetas\n",
    "    lam_temp = data_new[i][1]\n",
    "    lam.append( lam_temp )\n",
    "    k_opt_temp = data_new[i][2]\n",
    "    \n",
    "    if data_new[i][3]%(2*ma.pi) > ma.pi:\n",
    "        theta1_temp = (data_new[i][3]%(2*ma.pi) - 2*ma.pi)/ma.pi\n",
    "    else:\n",
    "        theta1_temp = (data_new[i][3]%(2*ma.pi))/ma.pi\n",
    "    theta1.append( theta1_temp )    \n",
    "    \n",
    "    if data_new[i][4]%(2*ma.pi) > ma.pi:\n",
    "        theta2_temp= -(data_new[i][4]%(2*ma.pi) - 2*ma.pi)/ma.pi    \n",
    "    else:\n",
    "        theta2_temp = -(data_new[i][4]%(2*ma.pi))/ma.pi\n",
    "    theta2.append( theta2_temp )\n",
    "        \n",
    "    # Compute the success probability\n",
    "    S1 = [[1,0],[0,-1]] # Phase flip with fixed angle\n",
    "    def S2(x,lamd):\n",
    "        return [[1-(1-cma.exp(1j*x))*lamd,(1-cma.exp(1j*x))*ma.sqrt(lamd*(1-lamd))],[(1-cma.exp(1j*x))*ma.sqrt(lamd*(1-lamd)),1-(1-cma.exp(1j*x))*(1-lamd)]]\n",
    "        \n",
    "        \n",
    "        \n",
    "    G1 = -np.matmul(S2(data_new[i][3],lam_temp),S1)\n",
    "    G2 = -np.matmul(S2(data_new[i][4],lam_temp),S1)\n",
    "    G = np.matmul(G2,G1) \n",
    "                    \n",
    "    state = [ ma.sqrt(1-lam_temp), ma.sqrt(lam_temp) ]\n",
    "    \n",
    "    if k_opt_temp%2 == 0: #even\n",
    "        for r in range( int(k_opt_temp/2) ):\n",
    "            state = np.matmul(G,state)\n",
    "        success_prob.append( abs(np.matmul([0,1], state))**2 )\n",
    "    \n",
    "    else: #odd\n",
    "        for r in range( int((k_opt_temp-1)/2) ):\n",
    "            state = np.matmul(G,state)\n",
    "        state = np.matmul(G1,state)\n",
    "        success_prob.append( abs(np.matmul([0,1], state))**2 )\n",
    "        \n",
    "\n"
   ]
  },
  {
   "cell_type": "markdown",
   "id": "7778513b",
   "metadata": {},
   "source": [
    "## Figure: Solutions (New Equations)"
   ]
  },
  {
   "cell_type": "code",
   "execution_count": 5,
   "id": "fcd7a0f6",
   "metadata": {},
   "outputs": [
    {
     "data": {
      "image/png": "[encoded data removed]",
      "text/plain": [
       "<Figure size 432x288 with 1 Axes>"
      ]
     },
     "metadata": {
      "needs_background": "light"
     },
     "output_type": "display_data"
    }
   ],
   "source": [
    "plt.figure()\n",
    "plt.plot(lam, theta1,'r.', markersize=2, label='$\\\\theta1$')\n",
    "plt.plot(lam, theta2,'b.', markersize=2, label='- $\\\\theta2$')\n",
    "plt.xlabel('$\\lambda$')\n",
    "plt.ylabel('Angle($\\\\theta$)')\n",
    "\n",
    "plt.xlim(0.001, 0.25)\n",
    "plt.ylim(0, 1.2)\n",
    "plt.xscale('log')\n",
    "plt.grid(True, linestyle='--')\n",
    "plt.legend()\n",
    "\n",
    "plt.show()"
   ]
  },
  {
   "cell_type": "markdown",
   "id": "a1692623",
   "metadata": {},
   "source": [
    "## Figure: Success Probability (New Equations)"
   ]
  },
  {
   "cell_type": "code",
   "execution_count": 9,
   "id": "f8cebed9",
   "metadata": {},
   "outputs": [
    {
     "data": {
      "image/png": "[encoded data removed]",
      "text/plain": [
       "<Figure size 432x288 with 1 Axes>"
      ]
     },
     "metadata": {
      "needs_background": "light"
     },
     "output_type": "display_data"
    }
   ],
   "source": [
    "plt.figure()\n",
    "plt.plot(lam, success_prob,'k.', markersize=5)\n",
    "plt.xlabel('$\\lambda$')\n",
    "plt.ylabel('Success Probability')\n",
    "\n",
    "plt.xlim(0.001, 0.25)\n",
    "plt.ylim(0.0, 1.2)\n",
    "plt.xscale('log')\n",
    "plt.grid(True, linestyle='--')\n",
    "plt.show()"
   ]
  }
 ],
 "metadata": {
  "kernelspec": {
   "display_name": "Python 3 (ipykernel)",
   "language": "python",
   "name": "python3"
  },
  "language_info": {
   "codemirror_mode": {
    "name": "ipython",
    "version": 3
   },
   "file_extension": ".py",
   "mimetype": "text/x-python",
   "name": "python",
   "nbconvert_exporter": "python",
   "pygments_lexer": "ipython3",
   "version": "3.9.7"
  }
 },
 "nbformat": 4,
 "nbformat_minor": 5
}
